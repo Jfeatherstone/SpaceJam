{
 "cells": [
  {
   "cell_type": "code",
   "execution_count": 1,
   "id": "2545be3d-f1b3-4919-a172-7e700cea98db",
   "metadata": {},
   "outputs": [],
   "source": [
    "import numpy as np\n",
    "import os\n",
    "\n",
    "from PIL import Image\n",
    "\n",
    "import matplotlib.pyplot as plt"
   ]
  },
  {
   "cell_type": "code",
   "execution_count": 2,
   "id": "769b89bb-ac91-43d4-9961-e92a01f10cf2",
   "metadata": {},
   "outputs": [],
   "source": [
    "fps = 20\n",
    "folderName = '1331118A'\n",
    "\n",
    "fileArr = os.listdir('Data/' + folderName)\n",
    "fileArr.sort()\n",
    "fileArr = fileArr[205:425]\n",
    "\n",
    "photoArr = [[] for i in range(len(fileArr))]\n",
    "\n",
    "for i in range(len(fileArr)):\n",
    "    photoArr[i] = Image.open('Data/' + folderName + '/' + fileArr[i])\n",
    "    \n",
    "photoArr[0].save('sample.gif', save_all=True, append_images=photoArr[1:], duration=fps, optimize=True, loop=0)"
   ]
  },
  {
   "cell_type": "code",
   "execution_count": null,
   "id": "7b25bfe5-141e-47c2-bb0e-9ea007ef3d27",
   "metadata": {},
   "outputs": [],
   "source": [
    "fps = 8\n",
    "numFrames = fps*8\n",
    "dsFactor = 40\n",
    "downscaleFactor = 2\n",
    "\n",
    "peImages = [[] for i in range(numFrames)]\n",
    "wlImages = [[] for i in range(numFrames)]\n",
    "\n",
    "for i in range(numFrames):\n",
    "    peImages[i] = Image.fromarray(np.uint8(ImageAnalysis.checkImageType(photoelasticImageData[0][i*dsFactor])[::downscaleFactor,::downscaleFactor]))\n",
    "    wlImages[i] = Image.fromarray(np.uint8(ImageAnalysis.checkImageType(whiteLightImageData[0][i*dsFactor])[::downscaleFactor,::downscaleFactor]))\n",
    "\n",
    "peImages[0].save('videos/slider_sample_pe_3.gif', save_all=True, append_images=peImages[1:], duration=fps, optimize=True, loop=0)\n",
    "wlImages[0].save('videos/slider_sample_wl_3.gif', save_all=True, append_images=wlImages[1:], duration=fps, optimize=True, loop=0)"
   ]
  }
 ],
 "metadata": {
  "kernelspec": {
   "display_name": "Python 3 (ipykernel)",
   "language": "python",
   "name": "python3"
  },
  "language_info": {
   "codemirror_mode": {
    "name": "ipython",
    "version": 3
   },
   "file_extension": ".py",
   "mimetype": "text/x-python",
   "name": "python",
   "nbconvert_exporter": "python",
   "pygments_lexer": "ipython3",
   "version": "3.7.11"
  }
 },
 "nbformat": 4,
 "nbformat_minor": 5
}
